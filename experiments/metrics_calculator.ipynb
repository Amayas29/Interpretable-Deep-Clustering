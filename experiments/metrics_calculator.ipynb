{
 "cells": [
  {
   "cell_type": "code",
   "execution_count": 16,
   "metadata": {
    "scrolled": true
   },
   "outputs": [],
   "source": [
    "import sys\n",
    "sys.path.append('../src')\n",
    "\n",
    "import torch\n",
    "import numpy as np\n",
    "\n",
    "import torchvision\n",
    "import torchvision.datasets as datasets\n",
    "\n",
    "import matplotlib.pyplot as plt\n",
    "from modules import IDC\n",
    "from utils import get_synthetic_dataset, plot_synthetic_dataset, clustering_accuracy, uniqueness, diversity, feature_importance_accuracy_drop\n",
    "from trainer import idc_trainer, device\n",
    "from sklearn.metrics import normalized_mutual_info_score as nmi, adjusted_rand_score as ari\n",
    "\n",
    "from sklearn.cluster import KMeans"
   ]
  },
  {
   "cell_type": "code",
   "execution_count": 3,
   "metadata": {},
   "outputs": [
    {
     "data": {
      "text/plain": [
       "<torch._C.Generator at 0x7f4749124570>"
      ]
     },
     "execution_count": 3,
     "metadata": {},
     "output_type": "execute_result"
    }
   ],
   "source": [
    "SEED = 42\n",
    "np.random.seed(SEED)\n",
    "torch.manual_seed(SEED)"
   ]
  },
  {
   "cell_type": "markdown",
   "metadata": {},
   "source": [
    "# Synthetic Data"
   ]
  },
  {
   "cell_type": "code",
   "execution_count": 4,
   "metadata": {},
   "outputs": [],
   "source": [
    "synthetic_X, synthetic_y = get_synthetic_dataset()\n",
    "synthetic_X = (synthetic_X - synthetic_X.min()) / (synthetic_X.max() - synthetic_X.min())"
   ]
  },
  {
   "cell_type": "code",
   "execution_count": 5,
   "metadata": {},
   "outputs": [],
   "source": [
    "idc_synthetic_75 = torch.load(\"../models/synthetic_model_75.pth\")"
   ]
  },
  {
   "cell_type": "markdown",
   "metadata": {},
   "source": [
    "### IDC With local gates"
   ]
  },
  {
   "cell_type": "code",
   "execution_count": 6,
   "metadata": {},
   "outputs": [
    {
     "name": "stdout",
     "output_type": "stream",
     "text": [
      "NMI = 0.8497\n",
      "ARI = 0.7115\n",
      "ACC = 0.7491\n",
      "S = 3.2606\n"
     ]
    }
   ],
   "source": [
    "with torch.no_grad():\n",
    "    X = synthetic_X.to(device)\n",
    "    X_Z ,z , _ = idc_synthetic_75.gnn(X)\n",
    "    H = idc_synthetic_75.ae.encoder(X_Z)\n",
    "\n",
    "    clust_logits, aux_logits, u_zg = idc_synthetic_75.clusterNN(X_Z, H)\n",
    "    clust_yhat = clust_logits.argmax(dim=1).cpu()\n",
    "    \n",
    "    synthetic_nmi = nmi(clust_yhat, synthetic_y)\n",
    "    print(f\"NMI = {synthetic_nmi:.4f}\")\n",
    "    \n",
    "    synthetic_ari = ari(clust_yhat, synthetic_y)\n",
    "    print(f\"ARI = {synthetic_ari:.4f}\")\n",
    "    \n",
    "    synthetic_acc = clustering_accuracy(clust_yhat, synthetic_y)\n",
    "    print(f\"ACC = {synthetic_acc:.4f}\")\n",
    "    \n",
    "    synthetic_S = (z != 0).sum() / z.size(0)\n",
    "    print(f\"S = {synthetic_S:.4f}\")"
   ]
  },
  {
   "cell_type": "markdown",
   "metadata": {},
   "source": [
    "### IDC Without local gates"
   ]
  },
  {
   "cell_type": "code",
   "execution_count": 7,
   "metadata": {},
   "outputs": [
    {
     "name": "stdout",
     "output_type": "stream",
     "text": [
      "NMI = 0.8372\n",
      "ARI = 0.7052\n",
      "ACC = 0.7462\n"
     ]
    }
   ],
   "source": [
    "with torch.no_grad():\n",
    "    X = synthetic_X.to(device)\n",
    "    H = idc_synthetic_75.ae.encoder(X)\n",
    "\n",
    "    clust_logits, aux_logits, u_zg = idc_synthetic_75.clusterNN(X, H)\n",
    "    clust_yhat = clust_logits.argmax(dim=1).cpu()\n",
    "    \n",
    "    synthetic_nmi = nmi(clust_yhat, synthetic_y)\n",
    "    print(f\"NMI = {synthetic_nmi:.4f}\")\n",
    "    \n",
    "    synthetic_ari = ari(clust_yhat, synthetic_y)\n",
    "    print(f\"ARI = {synthetic_ari:.4f}\")\n",
    "    \n",
    "    synthetic_acc = clustering_accuracy(clust_yhat, synthetic_y)\n",
    "    print(f\"ACC = {synthetic_acc:.4f}\")"
   ]
  },
  {
   "cell_type": "markdown",
   "metadata": {},
   "source": [
    "### KMEANS"
   ]
  },
  {
   "cell_type": "code",
   "execution_count": 8,
   "metadata": {},
   "outputs": [
    {
     "name": "stdout",
     "output_type": "stream",
     "text": [
      "NMI = 1.0000\n",
      "ARI = 1.0000\n",
      "ACC = 1.0000\n"
     ]
    }
   ],
   "source": [
    "km = KMeans(4)\n",
    "\n",
    "km.fit(synthetic_X)\n",
    "km_yhat = km.predict(synthetic_X)\n",
    "\n",
    "synthetic_nmi = nmi(km_yhat, synthetic_y)\n",
    "print(f\"NMI = {synthetic_nmi:.4f}\")\n",
    "\n",
    "synthetic_ari = ari(km_yhat, synthetic_y)\n",
    "print(f\"ARI = {synthetic_ari:.4f}\")\n",
    "\n",
    "synthetic_acc = clustering_accuracy(km_yhat, synthetic_y)\n",
    "print(f\"ACC = {synthetic_acc:.4f}\")"
   ]
  },
  {
   "cell_type": "markdown",
   "metadata": {},
   "source": [
    "# MNIST Data "
   ]
  },
  {
   "cell_type": "code",
   "execution_count": 9,
   "metadata": {},
   "outputs": [],
   "source": [
    "mnist_trainset = datasets.MNIST(root='./data', train=True, download=True, transform=None)\n",
    "mnist_X = mnist_trainset.data.reshape(-1, 784) / 255.\n",
    "mnist_y = mnist_trainset.targets\n",
    "\n",
    "subset_size_per_class = 1000\n",
    "classes = torch.unique(mnist_y)\n",
    "subset_indices = []\n",
    "for class_label in classes:\n",
    "    indices = (mnist_y == class_label).nonzero().squeeze()\n",
    "    subset_indices.extend(indices[:subset_size_per_class])\n",
    "\n",
    "import random\n",
    "random.seed(SEED)\n",
    "random.shuffle(subset_indices)\n",
    "\n",
    "mnist_X_subset = mnist_X[subset_indices]\n",
    "mnist_y_subset = mnist_y[subset_indices]\n",
    "\n",
    "subset_size_per_class = 100\n",
    "classes = torch.unique(mnist_y)\n",
    "subset_indices = []\n",
    "\n",
    "for class_label in classes:\n",
    "    indices = (mnist_y == class_label).nonzero().squeeze()\n",
    "    subset_indices.extend(indices[:subset_size_per_class])\n",
    "    \n",
    "mnist_X_subset_XAI = mnist_X[subset_indices]\n",
    "mnist_y_subset_XAI = mnist_y[subset_indices]"
   ]
  },
  {
   "cell_type": "code",
   "execution_count": 10,
   "metadata": {},
   "outputs": [],
   "source": [
    "idc_mnist = torch.load(\"../models/mnist_model_100BS_LARGE_de_OUF.pth\")"
   ]
  },
  {
   "cell_type": "markdown",
   "metadata": {},
   "source": [
    "### IDC With local gates"
   ]
  },
  {
   "cell_type": "code",
   "execution_count": 11,
   "metadata": {},
   "outputs": [
    {
     "name": "stdout",
     "output_type": "stream",
     "text": [
      "NMI = 0.7048\n",
      "ARI = 0.6513\n",
      "ACC = 0.7883\n",
      "S = 31.2232\n",
      "Uniqueness = 0.5489\n",
      "Diversity = 0.9516\n"
     ]
    }
   ],
   "source": [
    "with torch.no_grad():\n",
    "    X = mnist_X_subset.to(device)\n",
    "    X_Z ,z , _ = idc_mnist.gnn(X)\n",
    "    H = idc_mnist.ae.encoder(X_Z)\n",
    "\n",
    "    clust_logits, aux_logits, u_zg = idc_mnist.clusterNN(X_Z, H)\n",
    "    clust_yhat = clust_logits.argmax(dim=1).cpu()\n",
    "    \n",
    "    mnist_nmi = nmi(clust_yhat, mnist_y_subset)\n",
    "    print(f\"NMI = {mnist_nmi:.4f}\")\n",
    "    \n",
    "    mnist_ari = ari(clust_yhat, mnist_y_subset)\n",
    "    print(f\"ARI = {mnist_ari:.4f}\")\n",
    "    \n",
    "    mnist_acc = clustering_accuracy(clust_yhat, mnist_y_subset)\n",
    "    print(f\"ACC = {mnist_acc:.4f}\")\n",
    "    \n",
    "    mnist_S = (z != 0).sum() / z.size(0)\n",
    "    print(f\"S = {mnist_S:.4f}\")\n",
    "    \n",
    "    # XAI metrics\n",
    "    X = mnist_X_subset_XAI.to(device)\n",
    "    X_Z, z , _ = idc_mnist.gnn(X)\n",
    "\n",
    "    mnist_uniq = uniqueness(X.cpu().detach(), z.cpu().detach())\n",
    "    print(f\"Uniqueness = {mnist_uniq:.4f}\")\n",
    "\n",
    "    u_zg = idc_mnist.clusterNN.global_gates(torch.arange(10).to(device))\n",
    "    zg = idc_mnist.clusterNN.hard_thresholding(u_zg)\n",
    "\n",
    "    mnist_divers = diversity(zg)\n",
    "    print(f\"Diversity = {mnist_divers:.4f}\")"
   ]
  },
  {
   "cell_type": "code",
   "execution_count": 14,
   "metadata": {},
   "outputs": [
    {
     "data": {
      "text/plain": [
       "<matplotlib.collections.PathCollection at 0x7f466f0df400>"
      ]
     },
     "execution_count": 14,
     "metadata": {},
     "output_type": "execute_result"
    },
    {
     "data": {
      "image/png": "[encoded data removed]",
      "text/plain": [
       "<Figure size 640x480 with 1 Axes>"
      ]
     },
     "metadata": {},
     "output_type": "display_data"
    }
   ],
   "source": [
    "X = mnist_X_subset.to(device)\n",
    "_, z , _ = idc_mnist.gnn(X)\n",
    "feature_importances = z.sum(dim=0)\n",
    "perfs = feature_importance_accuracy_drop(idc_mnist, X, z, feature_importances)\n",
    "plt.scatter(perfs[:, 0], perfs[:, 1])"
   ]
  },
  {
   "cell_type": "markdown",
   "metadata": {},
   "source": [
    "### IDC Without local gates"
   ]
  },
  {
   "cell_type": "code",
   "execution_count": 12,
   "metadata": {},
   "outputs": [
    {
     "name": "stdout",
     "output_type": "stream",
     "text": [
      "NMI = 0.7368\n",
      "ARI = 0.6873\n",
      "ACC = 0.8047\n"
     ]
    }
   ],
   "source": [
    "with torch.no_grad():\n",
    "    X = mnist_X_subset.to(device)\n",
    "    H = idc_mnist.ae.encoder(X)\n",
    "\n",
    "    clust_logits, aux_logits, u_zg = idc_mnist.clusterNN(X, H)\n",
    "    clust_yhat = clust_logits.argmax(dim=1).cpu()\n",
    "    \n",
    "    mnist_nmi = nmi(clust_yhat, mnist_y_subset)\n",
    "    print(f\"NMI = {mnist_nmi:.4f}\")\n",
    "    \n",
    "    mnist_ari = ari(clust_yhat, mnist_y_subset)\n",
    "    print(f\"ARI = {mnist_ari:.4f}\")\n",
    "    \n",
    "    mnist_acc = clustering_accuracy(clust_yhat, mnist_y_subset)\n",
    "    print(f\"ACC = {mnist_acc:.4f}\")"
   ]
  },
  {
   "cell_type": "markdown",
   "metadata": {},
   "source": [
    "### KMeans + Shap"
   ]
  },
  {
   "cell_type": "code",
   "execution_count": 20,
   "metadata": {},
   "outputs": [
    {
     "name": "stdout",
     "output_type": "stream",
     "text": [
      "NMI = 0.4698\n",
      "ARI = 0.3261\n",
      "ACC = 0.5259\n"
     ]
    }
   ],
   "source": [
    "from sklearn.cluster import KMeans\n",
    "\n",
    "km = KMeans(10)\n",
    "km.fit(mnist_X_subset)\n",
    "yhat = km.predict(mnist_X_subset)\n",
    "\n",
    "mnist_nmi = nmi(yhat, mnist_y_subset)\n",
    "print(f\"NMI = {mnist_nmi:.4f}\")\n",
    "\n",
    "mnist_ari = ari(yhat, mnist_y_subset)\n",
    "print(f\"ARI = {mnist_ari:.4f}\")\n",
    "\n",
    "mnist_acc = clustering_accuracy(yhat, mnist_y_subset)\n",
    "print(f\"ACC = {mnist_acc:.4f}\")"
   ]
  },
  {
   "cell_type": "code",
   "execution_count": 21,
   "metadata": {},
   "outputs": [
    {
     "data": {
      "image/png": "[encoded data removed]",
      "text/plain": [
       "<Figure size 1500x1000 with 2 Axes>"
      ]
     },
     "metadata": {},
     "output_type": "display_data"
    }
   ],
   "source": [
    "idx = 27\n",
    "\n",
    "plt.figure(figsize=(15,10))\n",
    "\n",
    "with torch.no_grad():\n",
    "    X = mnist_X_subset.to(device)\n",
    "    X_Z ,z , _ = idc_mnist.gnn(X)\n",
    "    X_z_hat = idc_mnist.ae(X_Z)\n",
    "    X_hat = idc_mnist.ae(X)\n",
    "\n",
    "    plt.subplot(121)\n",
    "    plt.title(\"Original image\")\n",
    "    plt.axis('off')\n",
    "    plt.imshow(X_hat[idx].cpu().view(28, 28), cmap='gray')\n",
    "\n",
    "    plt.subplot(122)\n",
    "    plt.title(\"Important pixels\")\n",
    "    plt.axis('off')\n",
    "    \n",
    "    plt.imshow(X_Z[idx].cpu().view(28, 28), cmap='gray')\n",
    "\n",
    "plt.show()"
   ]
  }
 ],
 "metadata": {
  "kernelspec": {
   "display_name": "Python 3 (ipykernel)",
   "language": "python",
   "name": "python3"
  },
  "language_info": {
   "codemirror_mode": {
    "name": "ipython",
    "version": 3
   },
   "file_extension": ".py",
   "mimetype": "text/x-python",
   "name": "python",
   "nbconvert_exporter": "python",
   "pygments_lexer": "ipython3",
   "version": "3.9.6"
  }
 },
 "nbformat": 4,
 "nbformat_minor": 2
}
