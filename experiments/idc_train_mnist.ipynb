{
 "cells": [
  {
   "cell_type": "code",
   "execution_count": null,
   "metadata": {},
   "outputs": [],
   "source": [
    "import sys\n",
    "sys.path.append('../src')\n",
    "\n",
    "import torch\n",
    "import torchvision\n",
    "import torchvision.datasets as datasets\n",
    "import numpy as np\n",
    "\n",
    "import matplotlib.pyplot as plt\n",
    "from modules import IDC\n",
    "from utils import get_synthetic_dataset, plot_synthetic_dataset, clustering_accuracy\n",
    "from trainer import idc_trainer, device\n",
    "\n",
    "import warnings\n",
    "warnings.filterwarnings('ignore')"
   ]
  },
  {
   "cell_type": "code",
   "execution_count": null,
   "metadata": {},
   "outputs": [],
   "source": [
    "SEED = 42\n",
    "np.random.seed(SEED)\n",
    "torch.manual_seed(SEED)"
   ]
  },
  {
   "cell_type": "code",
   "execution_count": null,
   "metadata": {},
   "outputs": [],
   "source": [
    "mnist_trainset = datasets.MNIST(root='./data', train=True, download=True, transform=None)\n",
    "mnist_X = mnist_trainset.data.reshape(-1, 784) / 255.\n",
    "mnist_y = mnist_trainset.targets\n",
    "\n",
    "subset_size_per_class = 1000\n",
    "classes = torch.unique(mnist_y)\n",
    "subset_indices = []\n",
    "for class_label in classes:\n",
    "    indices = (mnist_y == class_label).nonzero().squeeze()\n",
    "    subset_indices.extend(indices[:subset_size_per_class])\n",
    "\n",
    "import random\n",
    "random.seed(SEED)\n",
    "random.shuffle(subset_indices)\n",
    "\n",
    "mnist_X_subset = mnist_X[subset_indices]\n",
    "mnist_y_subset = mnist_y[subset_indices]"
   ]
  },
  {
   "cell_type": "code",
   "execution_count": null,
   "metadata": {},
   "outputs": [],
   "source": [
    "data_input_dim = 784\n",
    "ae_layer_dims = [784, 512, 512, 2048, 10]\n",
    "gnn_hidden_dim = 784\n",
    "cluster_hidden_dim = 2048\n",
    "nb_classes = 10\n",
    "\n",
    "idc = IDC(data_input_dim, ae_layer_dims, gnn_hidden_dim, cluster_hidden_dim, nb_classes)"
   ]
  },
  {
   "cell_type": "code",
   "execution_count": null,
   "metadata": {},
   "outputs": [],
   "source": [
    "ae_gnn_config_train = {\n",
    "    \"batch_size\":256, \n",
    "    \"lr\":1e-3,\n",
    "    \"local_gates_lmbd\": 100,\n",
    "    \"reg_lmbd\": 10,\n",
    "    \"epochs\":150,\n",
    "    \"end_pretrain_epoch\": 100\n",
    "}\n",
    "\n",
    "clust_config_train = {\n",
    "    \"batch_size\":256, \n",
    "    \"lr_cluster_head\": 1e-2,\n",
    "    \"lr_aux\": 1e-1,\n",
    "    \"lr_zg\": 1e-1,\n",
    "    \"gamma\": 4,\n",
    "    \"global_gates_lmbd\": 10,\n",
    "    \"epochs\": 500,\n",
    "    \"end_pretrain_epoch\": 100\n",
    "}\n",
    "\n",
    "training_result = idc_trainer(idc, mnist_X_subset, ae_gnn_config_train, clust_config_train)"
   ]
  },
  {
   "cell_type": "code",
   "execution_count": null,
   "metadata": {},
   "outputs": [],
   "source": [
    "plt.plot(training_result[\"stage_one\"][\"ae_sparse_losses\"])\n",
    "plt.title(\"AE Sparse loss\")\n",
    "plt.show()"
   ]
  },
  {
   "cell_type": "code",
   "execution_count": null,
   "metadata": {},
   "outputs": [],
   "source": [
    "plt.plot(training_result[\"stage_one\"][\"ae_gnn_sparse_losses\"])\n",
    "plt.title(\"AE + GNN Sparse loss\")\n",
    "plt.show()"
   ]
  },
  {
   "cell_type": "code",
   "execution_count": null,
   "metadata": {},
   "outputs": [],
   "source": [
    "idx = 5\n",
    "with torch.no_grad():\n",
    "    X = mnist_X_subset.to(device)\n",
    "    X_Z ,z , _ = idc.gnn(X)\n",
    "    X_z_hat = idc.ae(X_Z)\n",
    "    X_hat = idc.ae(X)\n",
    "\n",
    "    print(\"------------------------------\")\n",
    "    print(\"AE Fine-tuned , display for X\")\n",
    "    print(\"------------------------------\")\n",
    "    plt.imshow(X_hat[idx].cpu().view(28, 28))\n",
    "    plt.show()\n",
    "\n",
    "    print(\"------------------------------\")\n",
    "    print(\"AE Fine-tuned , display for X_Z\")\n",
    "    print(\"------------------------------\")\n",
    "    plt.imshow(X_Z[idx].cpu().view(28, 28))\n",
    "    plt.show()"
   ]
  },
  {
   "cell_type": "code",
   "execution_count": null,
   "metadata": {},
   "outputs": [],
   "source": [
    "plt.plot(training_result[\"stage_two\"][\"clust_head_pretrain_losses\"])\n",
    "plt.title(\"Cluster Head pretrain loss\")\n",
    "plt.show()"
   ]
  },
  {
   "cell_type": "code",
   "execution_count": null,
   "metadata": {},
   "outputs": [],
   "source": [
    "plt.plot(training_result[\"stage_two\"][\"clust_head_finetune_losses\"])\n",
    "plt.title(\"Cluster Head finetuned loss\")\n",
    "plt.show()"
   ]
  },
  {
   "cell_type": "code",
   "execution_count": null,
   "metadata": {},
   "outputs": [],
   "source": [
    "plt.plot(training_result[\"stage_two\"][\"aux_losses\"])\n",
    "plt.title(\"Aux loss\")\n",
    "plt.show()"
   ]
  },
  {
   "cell_type": "code",
   "execution_count": null,
   "metadata": {},
   "outputs": [],
   "source": [
    "with torch.no_grad():\n",
    "    X = mnist_X_subset.to(device)\n",
    "    X_Z ,z , _ = idc.gnn(X)\n",
    "    H = idc.ae.encoder(X_Z)\n",
    "\n",
    "    clust_logits, aux_logits, u_zg = idc.clusterNN(X_Z, H)\n",
    "    yhat = clust_logits.argmax(dim=1).cpu()\n",
    "\n",
    "    print(clustering_accuracy(yhat, mnist_y_subset))\n",
    "    print(np.unique(yhat, return_counts=True))"
   ]
  },
  {
   "cell_type": "code",
   "execution_count": null,
   "metadata": {},
   "outputs": [],
   "source": [
    "from sklearn.cluster import KMeans\n",
    "\n",
    "km = KMeans(10)\n",
    "\n",
    "km.fit(mnist_X_subset)\n",
    "yhat = km.predict(mnist_X_subset)\n",
    "\n",
    "clustering_accuracy(yhat, mnist_y_subset)"
   ]
  }
 ],
 "metadata": {
  "kernelspec": {
   "display_name": "base",
   "language": "python",
   "name": "python3"
  },
  "language_info": {
   "codemirror_mode": {
    "name": "ipython",
    "version": 3
   },
   "file_extension": ".py",
   "mimetype": "text/x-python",
   "name": "python",
   "nbconvert_exporter": "python",
   "pygments_lexer": "ipython3",
   "version": "3.9.12"
  }
 },
 "nbformat": 4,
 "nbformat_minor": 2
}
