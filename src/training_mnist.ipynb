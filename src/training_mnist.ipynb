{
  "cells": [
    {
      "cell_type": "code",
      "execution_count": 1,
      "metadata": {
        "colab": {
          "base_uri": "https://localhost:8080/"
        },
        "id": "D7buz1IQvyZX",
        "outputId": "02677894-45a2-40b7-b869-34a64f2506eb"
      },
      "outputs": [
        {
          "output_type": "stream",
          "name": "stdout",
          "text": [
            "Mounted at /content/drive\n"
          ]
        }
      ],
      "source": [
        "from google.colab import drive\n",
        "drive.mount(\"/content/drive\")"
      ]
    },
    {
      "cell_type": "code",
      "execution_count": 2,
      "metadata": {
        "colab": {
          "base_uri": "https://localhost:8080/"
        },
        "id": "2Qem2j3Swk7H",
        "outputId": "d8cef94f-56d7-4cb3-ddc2-5c53faec794e"
      },
      "outputs": [
        {
          "output_type": "stream",
          "name": "stdout",
          "text": [
            "/content/drive/MyDrive/src\n"
          ]
        }
      ],
      "source": [
        "%cd /content/drive/MyDrive/src/"
      ]
    },
    {
      "cell_type": "code",
      "execution_count": 3,
      "metadata": {
        "id": "KfX5rhumvHOF"
      },
      "outputs": [],
      "source": [
        "import torch\n",
        "import torchvision\n",
        "import torchvision.datasets as datasets\n",
        "import torchvision.transforms as transforms\n",
        "import torch.nn as nn\n",
        "import torch.optim as optim\n",
        "from torch.utils.data import DataLoader, TensorDataset, Dataset, Subset\n",
        "from tqdm import tqdm\n",
        "import numpy as np\n",
        "\n",
        "import matplotlib.pyplot as plt\n",
        "\n",
        "from modules import MLPAutoEncoder, GatingNN, ClusteringNN\n",
        "from losses import SparseLoss, ClusterLoss\n",
        "from utils import random_binary_mask, cosine_scheduler"
      ]
    },
    {
      "cell_type": "code",
      "source": [
        "def clustering_accuracy(labels_true, labels_pred):\n",
        "    from scipy.optimize import linear_sum_assignment\n",
        "    from sklearn.metrics.cluster import _supervised\n",
        "\n",
        "    labels_true, labels_pred = _supervised.check_clusterings(labels_true, labels_pred)\n",
        "    value = _supervised.contingency_matrix(labels_true, labels_pred)\n",
        "    [r, c] = linear_sum_assignment(-value)\n",
        "    return value[r, c].sum() / len(labels_true)"
      ],
      "metadata": {
        "id": "F7lxSufengiM"
      },
      "execution_count": null,
      "outputs": []
    },
    {
      "cell_type": "code",
      "execution_count": 4,
      "metadata": {
        "colab": {
          "base_uri": "https://localhost:8080/"
        },
        "id": "v8DcIE1VfVcc",
        "outputId": "31c01bb7-763a-40f9-e20e-7f9be8b1f3fb"
      },
      "outputs": [
        {
          "output_type": "execute_result",
          "data": {
            "text/plain": [
              "<torch._C.Generator at 0x7fdb6fdfa8b0>"
            ]
          },
          "metadata": {},
          "execution_count": 4
        }
      ],
      "source": [
        "SEED = 42\n",
        "np.random.seed(SEED)\n",
        "torch.manual_seed(SEED)"
      ]
    },
    {
      "cell_type": "code",
      "execution_count": 10,
      "metadata": {
        "id": "LuS_Sc5bCY0J"
      },
      "outputs": [],
      "source": [
        "mnist_trainset = datasets.MNIST(root='./data', train=True, download=True, transform=None)\n",
        "mnist_X = mnist_trainset.data.reshape(-1, 784) / 255.\n",
        "mnist_y = mnist_trainset.targets"
      ]
    },
    {
      "cell_type": "code",
      "source": [
        "mnist_X.size(), mnist_y.size()"
      ],
      "metadata": {
        "colab": {
          "base_uri": "https://localhost:8080/"
        },
        "id": "kS-EB1E5VGd4",
        "outputId": "b4f0c1f9-f44f-4b8c-df3f-eb5073ee3857"
      },
      "execution_count": 11,
      "outputs": [
        {
          "output_type": "execute_result",
          "data": {
            "text/plain": [
              "(torch.Size([60000, 784]), torch.Size([60000]))"
            ]
          },
          "metadata": {},
          "execution_count": 11
        }
      ]
    },
    {
      "cell_type": "code",
      "source": [
        "from sklearn.model_selection import train_test_split\n",
        "\n",
        "idx = list(range(len(mnist_X)))\n",
        "idx_train, idx_val = train_test_split(list(range(len(idx))), test_size=0.9, stratify=mnist_y)"
      ],
      "metadata": {
        "id": "uK1MiHKIfEgx"
      },
      "execution_count": 12,
      "outputs": []
    },
    {
      "cell_type": "code",
      "source": [
        "mnist_X = mnist_X[idx_train] / 255.\n",
        "mnist_y = mnist_y[idx_train]"
      ],
      "metadata": {
        "id": "3Y4fh3aQfWlE"
      },
      "execution_count": 13,
      "outputs": []
    },
    {
      "cell_type": "code",
      "source": [
        "mnist_X.size(), mnist_y.size()"
      ],
      "metadata": {
        "colab": {
          "base_uri": "https://localhost:8080/"
        },
        "id": "sXOze-PwfeFf",
        "outputId": "c1cd0efd-cecb-4745-9f8d-bd63c53150aa"
      },
      "execution_count": 14,
      "outputs": [
        {
          "output_type": "execute_result",
          "data": {
            "text/plain": [
              "(torch.Size([6000, 784]), torch.Size([6000]))"
            ]
          },
          "metadata": {},
          "execution_count": 14
        }
      ]
    },
    {
      "cell_type": "code",
      "source": [
        "mnist_dataset = TensorDataset(mnist_X, mnist_y)"
      ],
      "metadata": {
        "id": "yHsPUg3wVH6-"
      },
      "execution_count": 15,
      "outputs": []
    },
    {
      "cell_type": "code",
      "execution_count": 16,
      "metadata": {
        "colab": {
          "base_uri": "https://localhost:8080/"
        },
        "id": "6UZexTZGxD9e",
        "outputId": "45e6454f-ff1b-4f63-b991-9875b06f14bf"
      },
      "outputs": [
        {
          "output_type": "execute_result",
          "data": {
            "text/plain": [
              "device(type='cuda')"
            ]
          },
          "metadata": {},
          "execution_count": 16
        }
      ],
      "source": [
        "device = torch.device(\"cuda\" if torch.cuda.is_available() else \"cpu\")\n",
        "device"
      ]
    },
    {
      "cell_type": "code",
      "execution_count": null,
      "metadata": {
        "colab": {
          "base_uri": "https://localhost:8080/",
          "height": 487
        },
        "id": "UcZuPVvLlBlh",
        "outputId": "c5c83008-39de-494e-dff2-629a1f01379a"
      },
      "outputs": [
        {
          "output_type": "stream",
          "name": "stderr",
          "text": [
            "100%|██████████| 100/100 [03:38<00:00,  2.18s/it]\n"
          ]
        },
        {
          "output_type": "stream",
          "name": "stdout",
          "text": [
            "AE Training finished!\n"
          ]
        },
        {
          "output_type": "display_data",
          "data": {
            "text/plain": [
              "<Figure size 640x480 with 1 Axes>"
            ],
            "image/png": "[encoded data removed]"
          },
          "metadata": {}
        }
      ],
      "source": [
        "mnist_layer_dims = [784, 512, 512, 2048, 10]\n",
        "\n",
        "BATCH_SIZE = 256\n",
        "mnist_dataloader = DataLoader(mnist_dataset, batch_size=BATCH_SIZE, shuffle=True)\n",
        "\n",
        "ae = MLPAutoEncoder(mnist_layer_dims)\n",
        "criterion = SparseLoss(pretrain=True)\n",
        "\n",
        "ae = ae.to(device)\n",
        "\n",
        "LR = 1e-3\n",
        "EPOCHS = 100\n",
        "\n",
        "optimizer = optim.Adam(ae.parameters(), lr=LR)\n",
        "losses = []\n",
        "\n",
        "for epoch in tqdm(range(EPOCHS)):\n",
        "    epoch_loss = 0.0\n",
        "\n",
        "    for x, y in mnist_dataloader:\n",
        "\n",
        "        x = x.to(device)\n",
        "\n",
        "        x_hat = ae(x)\n",
        "\n",
        "        input_noise_mask = random_binary_mask(x.size(), x.device, type_mask=\"INPUT\")\n",
        "        x_input_noised_hat = ae(x * input_noise_mask)\n",
        "\n",
        "        h = ae.encoder(x)\n",
        "        h_noise = random_binary_mask(h.size(), h.device, type_mask=\"LATENT\")\n",
        "        h = h * h_noise\n",
        "        x_latent_noised_hat = ae.decoder(h)\n",
        "\n",
        "        loss = criterion(x, x_hat, x_input_noised_hat, x_latent_noised_hat, local_gates_lmbd=10)\n",
        "\n",
        "        optimizer.zero_grad()\n",
        "        loss.backward()\n",
        "        optimizer.step()\n",
        "\n",
        "        epoch_loss += loss.item()\n",
        "\n",
        "    # Save the average loss for the epoch\n",
        "    avg_epoch_loss = epoch_loss / len(mnist_dataloader)\n",
        "    losses.append(avg_epoch_loss)\n",
        "\n",
        "print('AE Training finished!')\n",
        "plt.plot(losses)\n",
        "plt.title(\"AE loss\")\n",
        "plt.show()"
      ]
    },
    {
      "cell_type": "code",
      "execution_count": null,
      "metadata": {
        "colab": {
          "base_uri": "https://localhost:8080/",
          "height": 487
        },
        "id": "L5h341gkRfbl",
        "outputId": "d6c3cf86-dc52-465a-ffd9-00ef8fb7c0f9"
      },
      "outputs": [
        {
          "output_type": "stream",
          "name": "stderr",
          "text": [
            "100%|██████████| 100/100 [05:31<00:00,  3.32s/it]\n"
          ]
        },
        {
          "output_type": "stream",
          "name": "stdout",
          "text": [
            "ALL Training finished!\n"
          ]
        },
        {
          "output_type": "display_data",
          "data": {
            "text/plain": [
              "<Figure size 640x480 with 1 Axes>"
            ],
            "image/png": "[encoded data removed]"
          },
          "metadata": {}
        }
      ],
      "source": [
        "gnn = GatingNN(784, 784)\n",
        "gnn = gnn.to(device)\n",
        "\n",
        "LR = 1e-3\n",
        "EPOCHS = 100\n",
        "\n",
        "optimizer = optim.Adam(list(gnn.parameters()) + list(ae.parameters()), lr=LR)\n",
        "criterion = SparseLoss(pretrain=False)\n",
        "losses = []\n",
        "\n",
        "for epoch in tqdm(range(EPOCHS)):\n",
        "    epoch_loss = 0.0\n",
        "    lmbd = cosine_scheduler(epoch, EPOCHS, max_val=1)\n",
        "\n",
        "    for x, y in mnist_dataloader:\n",
        "\n",
        "        x = x.to(device)\n",
        "\n",
        "        x_z, z, u = gnn(x)\n",
        "        x_hat = ae(x)\n",
        "        x_z_hat = ae(x_z)\n",
        "\n",
        "        input_noise_mask = random_binary_mask(x.size(), x.device, type_mask=\"INPUT\")\n",
        "        x_input_noised_hat = ae(x * input_noise_mask)\n",
        "\n",
        "        h = ae.encoder(x)\n",
        "        h_noise = random_binary_mask(h.size(), h.device, type_mask=\"LATENT\")\n",
        "        h = h * h_noise\n",
        "        x_latent_noised_hat = ae.decoder(h)\n",
        "\n",
        "        loss = criterion(x, x_hat, x_input_noised_hat, x_latent_noised_hat, x_z_hat, z, u, lmbd, local_gates_lmbd=10)\n",
        "\n",
        "        optimizer.zero_grad()\n",
        "        loss.backward()\n",
        "        optimizer.step()\n",
        "\n",
        "        epoch_loss += loss.item()\n",
        "\n",
        "    # Save the average loss for the epoch\n",
        "    avg_epoch_loss = epoch_loss / len(mnist_dataloader)\n",
        "    losses.append(avg_epoch_loss)\n",
        "\n",
        "print('ALL Training finished!')\n",
        "plt.plot(losses)\n",
        "plt.title(\"sparse loss\")\n",
        "plt.show()"
      ]
    },
    {
      "cell_type": "code",
      "execution_count": null,
      "metadata": {
        "id": "vdmWswraFBzP"
      },
      "outputs": [],
      "source": [
        "with torch.no_grad():\n",
        "    X = mnist_X.to(device)\n",
        "    X_Z ,z , _ = gnn(X)\n",
        "    X_z_hat = ae(X_Z)\n",
        "    X_hat = ae(X)\n",
        "\n",
        "    plt.imshow(X_Z[0].reshape(28, 28).cpu().detach().numpy())\n",
        "    plt.show()\n",
        "\n",
        "    plt.imshow(X[0].reshape(28, 28).cpu().detach().numpy())\n",
        "    plt.show()"
      ]
    },
    {
      "cell_type": "code",
      "execution_count": null,
      "metadata": {
        "id": "U3xwLnDtJ1sq"
      },
      "outputs": [],
      "source": [
        "X = mnist_X.to(device)\n",
        "X_Z ,z , _ = gnn(X)\n",
        "\n",
        "# # encode from X\n",
        "# H_from_X = ae.encoder(X)\n",
        "\n",
        "# encode from X_Z\n",
        "H_from_X_Z = ae.encoder(X_Z)"
      ]
    },
    {
      "cell_type": "code",
      "execution_count": null,
      "metadata": {
        "id": "mqEZSjgvWVk_"
      },
      "outputs": [],
      "source": [
        "cluster_dataset = TensorDataset(X_Z, H_from_X_Z, mnist_y)\n",
        "\n",
        "BATCH_SIZE = 256\n",
        "cluster_dataloader = DataLoader(cluster_dataset, batch_size=BATCH_SIZE, shuffle=True)"
      ]
    },
    {
      "cell_type": "code",
      "execution_count": null,
      "metadata": {
        "colab": {
          "base_uri": "https://localhost:8080/",
          "height": 487
        },
        "id": "8VGCn4EY18lT",
        "outputId": "82f37469-2d3c-4201-d2ba-b968911d16dc"
      },
      "outputs": [
        {
          "output_type": "stream",
          "name": "stderr",
          "text": [
            "100%|██████████| 100/100 [04:19<00:00,  2.60s/it]\n"
          ]
        },
        {
          "output_type": "stream",
          "name": "stdout",
          "text": [
            "ClusterHead Training finished!\n"
          ]
        },
        {
          "output_type": "display_data",
          "data": {
            "text/plain": [
              "<Figure size 640x480 with 1 Axes>"
            ],
            "image/png": "[encoded data removed]"
          },
          "metadata": {}
        }
      ],
      "source": [
        "clust = ClusteringNN(784, 10, 2048, 10, tau=5)\n",
        "criterion = ClusterLoss(10, pretrain=True)\n",
        "\n",
        "clust = clust.to(device)\n",
        "\n",
        "LR = 1e-2\n",
        "EPOCHS = 100\n",
        "\n",
        "optimizer = optim.Adam(clust.cluster_head.parameters(), lr=LR)\n",
        "losses = []\n",
        "\n",
        "for epoch in tqdm(range(EPOCHS)):\n",
        "    epoch_loss = 0.0\n",
        "    lmbd = cosine_scheduler(epoch, EPOCHS, max_val=1)\n",
        "\n",
        "    for i, (x, h, y) in enumerate(cluster_dataloader):\n",
        "\n",
        "        x = x.to(device)\n",
        "        h = h.to(device)\n",
        "        y = y.to(device)\n",
        "\n",
        "        clust_logits, aux_logits, u_zg = clust(x, h)\n",
        "        loss = criterion(h, clust_logits, aux_logits, u_zg, lmbd, gamma=4)\n",
        "\n",
        "        optimizer.zero_grad()\n",
        "        loss.backward(retain_graph=True)\n",
        "        optimizer.step()\n",
        "\n",
        "        epoch_loss += loss.item()\n",
        "\n",
        "    # Save the average loss for the epoch\n",
        "    avg_epoch_loss = epoch_loss / len(cluster_dataloader)\n",
        "    losses.append(avg_epoch_loss)\n",
        "\n",
        "print('ClusterHead Training finished!')\n",
        "plt.plot(losses)\n",
        "plt.title(\"CH loss\")\n",
        "plt.show()"
      ]
    },
    {
      "cell_type": "code",
      "execution_count": null,
      "metadata": {
        "colab": {
          "base_uri": "https://localhost:8080/"
        },
        "id": "sBHVrdI8JxLU",
        "outputId": "cc5c1d06-c790-4c83-d522-642da123982a"
      },
      "outputs": [
        {
          "output_type": "execute_result",
          "data": {
            "text/plain": [
              "tensor(0.0867)"
            ]
          },
          "metadata": {},
          "execution_count": 20
        }
      ],
      "source": [
        "with torch.no_grad():\n",
        "    X = mnist_X.to(device)\n",
        "    X_Z ,z , _ = gnn(X)\n",
        "    H = ae.encoder(X_Z)\n",
        "\n",
        "    clust_logits, aux_logits, u_zg = clust(X_Z, H)\n",
        "    yhat = clust_logits.argmax(dim=1).cpu()\n",
        "\n",
        "    print(clustering_accuracy(yhat, mnist_y))"
      ]
    },
    {
      "cell_type": "code",
      "execution_count": 17,
      "metadata": {
        "id": "jo_jxQNwoGj9"
      },
      "outputs": [],
      "source": [
        "criterion = ClusterLoss(10, pretrain=False)\n",
        "\n",
        "LR_AUX = 1e-2\n",
        "LR_ZG = 1e-1\n",
        "\n",
        "EPOCHS = 100\n",
        "\n",
        "optimizer_aux = optim.SGD(clust.aux_classifier.parameters(), lr=LR_AUX)\n",
        "optimizer_ZG = optim.SGD(clust.global_gates.parameters(), lr=LR_ZG)\n",
        "\n",
        "losses_head = []\n",
        "losses_aux = []\n",
        "\n",
        "for epoch in tqdm(range(EPOCHS)):\n",
        "    epoch_loss_head = 0.0\n",
        "    epoch_loss_aux = 0.0\n",
        "\n",
        "    lmbd = cosine_scheduler(epoch, EPOCHS, max_val=1)\n",
        "\n",
        "    for i, (x, h, y) in enumerate(cluster_dataloader):\n",
        "\n",
        "        x = x.to(device)\n",
        "        h = h.to(device)\n",
        "        y = y.to(device)\n",
        "\n",
        "        clust_logits, aux_logits, u_zg = clust(x, h)\n",
        "        loss_head, loss_aux = criterion(h, clust_logits, aux_logits, u_zg, lmbd, gamma=4)\n",
        "\n",
        "        optimizer.zero_grad()\n",
        "        loss_head.backward(retain_graph=True)\n",
        "        optimizer.step()\n",
        "\n",
        "        optimizer_aux.zero_grad()\n",
        "        optimizer_ZG.zero_grad()\n",
        "        loss_aux.backward(retain_graph=True)\n",
        "        optimizer_aux.step()\n",
        "        optimizer_ZG.step()\n",
        "\n",
        "        epoch_loss_head += loss_head.item()\n",
        "        epoch_loss_aux += loss_aux.item()\n",
        "\n",
        "    # Save the average loss for the epoch\n",
        "    avg_epoch_loss_head = epoch_loss_head / len(cluster_dataloader)\n",
        "    losses_head.append(avg_epoch_loss_head)\n",
        "\n",
        "    avg_epoch_loss_aux = epoch_loss_aux / len(cluster_dataloader)\n",
        "    losses_aux.append(avg_epoch_loss_aux)\n",
        "\n",
        "print('ClusterHead Training finished!')\n",
        "\n",
        "plt.plot(losses_head)\n",
        "plt.title(\"Head loss\")\n",
        "plt.show()\n",
        "\n",
        "plt.plot(losses_aux)\n",
        "plt.title(\"Aux loss\")\n",
        "plt.show()"
      ]
    },
    {
      "cell_type": "code",
      "execution_count": null,
      "metadata": {
        "id": "FpROXs1b3cYq"
      },
      "outputs": [],
      "source": [
        "with torch.no_grad():\n",
        "    X = mnist_X.to(device)\n",
        "    X_Z ,z , _ = gnn(X)\n",
        "    H = ae.encoder(X_Z)\n",
        "\n",
        "    clust_logits, aux_logits, u_zg = clust(X_Z, H)\n",
        "    yhat = clust_logits.argmax(dim=1).cpu()\n",
        "\n",
        "    print(clustering_accuracy(yhat, mnist_y))"
      ]
    }
  ],
  "metadata": {
    "accelerator": "GPU",
    "colab": {
      "provenance": []
    },
    "kernelspec": {
      "display_name": "Python 3",
      "name": "python3"
    },
    "language_info": {
      "codemirror_mode": {
        "name": "ipython",
        "version": 3
      },
      "file_extension": ".py",
      "mimetype": "text/x-python",
      "name": "python",
      "nbconvert_exporter": "python",
      "pygments_lexer": "ipython3",
      "version": "3.9.12"
    }
  },
  "nbformat": 4,
  "nbformat_minor": 0
}